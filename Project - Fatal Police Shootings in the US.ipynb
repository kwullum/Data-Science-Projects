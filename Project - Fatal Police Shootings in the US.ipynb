{
 "cells": [
  {
   "cell_type": "markdown",
   "metadata": {},
   "source": [
    "# FATAL POLICE SHOOTINGS IN THE US - *Final project for the General Assembly Data Science course*"
   ]
  },
  {
   "cell_type": "markdown",
   "metadata": {},
   "source": [
    "The 2014 killing of Michael Brown in Ferguson, Missouri, began the protest movement culminating in Black Lives Matter and an increased focus on police accountability nationwide. This project aims to look at data of fatal police shootings in the US taking place between 01.Jan 2015 - 01.June 2017, to investigate whether there is a bias towards young, black males.\n",
    "\n",
    "\n",
    "Since Jan. 1, 2015, The Washington Post has been compiling a database of every fatal shooting in the US by a police officer in the line of duty. \n",
    "It's difficult to find reliable data from before this period, as police killings haven't been comprehensively documented, and the statistics on police brutality are much less available. As a result, a vast number of cases go unreported.\n",
    "\n",
    "\n",
    "\n",
    "The Washington Post is tracking more than a dozen details about each killing - including the race, age and gender of the deceased, whether the person was armed, and whether the victim was experiencing a mental-health crisis. They have gathered this information from law enforcement websites, local new reports, social media, and by monitoring independent databases such as \"Killed by police\" and \"Fatal Encounters\". The Post has also conducted additional reporting in many cases.\n",
    "This dataset only contains shootings in which a police officer, in the line of duty, shot and killed a civilian. It does not track deaths of people in police custody, fatal shootings by off-duty officers or non-shooting deaths. \n",
    "\n",
    "The dataset can be accessed here: https://github.com/washingtonpost/data-police-shootings\n",
    "\n"
   ]
  },
  {
   "cell_type": "markdown",
   "metadata": {},
   "source": [
    "## PREPROCESSING DATA"
   ]
  },
  {
   "cell_type": "code",
   "execution_count": 61,
   "metadata": {
    "collapsed": true
   },
   "outputs": [],
   "source": [
    "%matplotlib inline\n",
    "import matplotlib\n",
    "import matplotlib.pyplot as plt\n",
    "import numpy as np\n",
    "import pandas as pd\n",
    "import seaborn as sns\n",
    "from sklearn import linear_model, metrics"
   ]
  },
  {
   "cell_type": "code",
   "execution_count": 62,
   "metadata": {},
   "outputs": [
    {
     "data": {
      "text/html": [
       "<div>\n",
       "<style>\n",
       "    .dataframe thead tr:only-child th {\n",
       "        text-align: right;\n",
       "    }\n",
       "\n",
       "    .dataframe thead th {\n",
       "        text-align: left;\n",
       "    }\n",
       "\n",
       "    .dataframe tbody tr th {\n",
       "        vertical-align: top;\n",
       "    }\n",
       "</style>\n",
       "<table border=\"1\" class=\"dataframe\">\n",
       "  <thead>\n",
       "    <tr style=\"text-align: right;\">\n",
       "      <th></th>\n",
       "      <th>id</th>\n",
       "      <th>name</th>\n",
       "      <th>date</th>\n",
       "      <th>manner_of_death</th>\n",
       "      <th>armed</th>\n",
       "      <th>age</th>\n",
       "      <th>gender</th>\n",
       "      <th>race</th>\n",
       "      <th>city</th>\n",
       "      <th>state</th>\n",
       "      <th>signs_of_mental_illness</th>\n",
       "      <th>threat_level</th>\n",
       "      <th>flee</th>\n",
       "      <th>body_camera</th>\n",
       "    </tr>\n",
       "  </thead>\n",
       "  <tbody>\n",
       "    <tr>\n",
       "      <th>0</th>\n",
       "      <td>3</td>\n",
       "      <td>Tim Elliot</td>\n",
       "      <td>02/01/15</td>\n",
       "      <td>shot</td>\n",
       "      <td>gun</td>\n",
       "      <td>53.0</td>\n",
       "      <td>M</td>\n",
       "      <td>A</td>\n",
       "      <td>Shelton</td>\n",
       "      <td>WA</td>\n",
       "      <td>True</td>\n",
       "      <td>attack</td>\n",
       "      <td>Not fleeing</td>\n",
       "      <td>False</td>\n",
       "    </tr>\n",
       "    <tr>\n",
       "      <th>1</th>\n",
       "      <td>4</td>\n",
       "      <td>Lewis Lee Lembke</td>\n",
       "      <td>02/01/15</td>\n",
       "      <td>shot</td>\n",
       "      <td>gun</td>\n",
       "      <td>47.0</td>\n",
       "      <td>M</td>\n",
       "      <td>W</td>\n",
       "      <td>Aloha</td>\n",
       "      <td>OR</td>\n",
       "      <td>False</td>\n",
       "      <td>attack</td>\n",
       "      <td>Not fleeing</td>\n",
       "      <td>False</td>\n",
       "    </tr>\n",
       "    <tr>\n",
       "      <th>2</th>\n",
       "      <td>5</td>\n",
       "      <td>John Paul Quintero</td>\n",
       "      <td>03/01/15</td>\n",
       "      <td>shot and Tasered</td>\n",
       "      <td>unarmed</td>\n",
       "      <td>23.0</td>\n",
       "      <td>M</td>\n",
       "      <td>H</td>\n",
       "      <td>Wichita</td>\n",
       "      <td>KS</td>\n",
       "      <td>False</td>\n",
       "      <td>other</td>\n",
       "      <td>Not fleeing</td>\n",
       "      <td>False</td>\n",
       "    </tr>\n",
       "    <tr>\n",
       "      <th>3</th>\n",
       "      <td>8</td>\n",
       "      <td>Matthew Hoffman</td>\n",
       "      <td>04/01/15</td>\n",
       "      <td>shot</td>\n",
       "      <td>toy weapon</td>\n",
       "      <td>32.0</td>\n",
       "      <td>M</td>\n",
       "      <td>W</td>\n",
       "      <td>San Francisco</td>\n",
       "      <td>CA</td>\n",
       "      <td>True</td>\n",
       "      <td>attack</td>\n",
       "      <td>Not fleeing</td>\n",
       "      <td>False</td>\n",
       "    </tr>\n",
       "    <tr>\n",
       "      <th>4</th>\n",
       "      <td>9</td>\n",
       "      <td>Michael Rodriguez</td>\n",
       "      <td>04/01/15</td>\n",
       "      <td>shot</td>\n",
       "      <td>nail gun</td>\n",
       "      <td>39.0</td>\n",
       "      <td>M</td>\n",
       "      <td>H</td>\n",
       "      <td>Evans</td>\n",
       "      <td>CO</td>\n",
       "      <td>False</td>\n",
       "      <td>attack</td>\n",
       "      <td>Not fleeing</td>\n",
       "      <td>False</td>\n",
       "    </tr>\n",
       "  </tbody>\n",
       "</table>\n",
       "</div>"
      ],
      "text/plain": [
       "   id                name      date   manner_of_death       armed   age  \\\n",
       "0   3          Tim Elliot  02/01/15              shot         gun  53.0   \n",
       "1   4    Lewis Lee Lembke  02/01/15              shot         gun  47.0   \n",
       "2   5  John Paul Quintero  03/01/15  shot and Tasered     unarmed  23.0   \n",
       "3   8     Matthew Hoffman  04/01/15              shot  toy weapon  32.0   \n",
       "4   9   Michael Rodriguez  04/01/15              shot    nail gun  39.0   \n",
       "\n",
       "  gender race           city state  signs_of_mental_illness threat_level  \\\n",
       "0      M    A        Shelton    WA                     True       attack   \n",
       "1      M    W          Aloha    OR                    False       attack   \n",
       "2      M    H        Wichita    KS                    False        other   \n",
       "3      M    W  San Francisco    CA                     True       attack   \n",
       "4      M    H          Evans    CO                    False       attack   \n",
       "\n",
       "          flee  body_camera  \n",
       "0  Not fleeing        False  \n",
       "1  Not fleeing        False  \n",
       "2  Not fleeing        False  \n",
       "3  Not fleeing        False  \n",
       "4  Not fleeing        False  "
      ]
     },
     "execution_count": 62,
     "metadata": {},
     "output_type": "execute_result"
    }
   ],
   "source": [
    "# The original dataset\n",
    "df = pd.read_csv(\"./PoliceKillingsUS.csv\")\n",
    "df.head()"
   ]
  },
  {
   "cell_type": "code",
   "execution_count": 63,
   "metadata": {
    "collapsed": true
   },
   "outputs": [],
   "source": [
    "df = df.rename(columns={\"city\": \"City\"})\n",
    "\n",
    "df.drop([\"id\", \"name\", \"manner_of_death\"], axis=1, inplace=True) # Deleting useless columns\n",
    "\n",
    "df.age.fillna(value=df.age.mean(), inplace=True) # Dealing with missing AGE values. Set them to mean of all ages. \n",
    "df.age = df.age.astype(int)\n",
    "\n",
    "df.dropna(subset=[\"race\"], inplace=True) # Deleting rows with missing values for race\n",
    "\n",
    "df.drop(df.index[2363:], inplace=True) # Deleting deaths after 01/06/2017, as more info is missing about these, including vital information such as race"
   ]
  },
  {
   "cell_type": "markdown",
   "metadata": {
    "collapsed": true
   },
   "source": [
    "<br>\n",
    "Add a column to the dataset called \"total population\" with the total US population of the corresponding race. \n",
    "Source: https://en.wikipedia.org/wiki/Demography_of_the_United_States\n",
    "<br>"
   ]
  },
  {
   "cell_type": "code",
   "execution_count": 64,
   "metadata": {},
   "outputs": [
    {
     "data": {
      "text/html": [
       "<div>\n",
       "<style>\n",
       "    .dataframe thead tr:only-child th {\n",
       "        text-align: right;\n",
       "    }\n",
       "\n",
       "    .dataframe thead th {\n",
       "        text-align: left;\n",
       "    }\n",
       "\n",
       "    .dataframe tbody tr th {\n",
       "        vertical-align: top;\n",
       "    }\n",
       "</style>\n",
       "<table border=\"1\" class=\"dataframe\">\n",
       "  <thead>\n",
       "    <tr style=\"text-align: right;\">\n",
       "      <th></th>\n",
       "      <th>date</th>\n",
       "      <th>armed</th>\n",
       "      <th>age</th>\n",
       "      <th>gender</th>\n",
       "      <th>race</th>\n",
       "      <th>City</th>\n",
       "      <th>state</th>\n",
       "      <th>signs_of_mental_illness</th>\n",
       "      <th>threat_level</th>\n",
       "      <th>flee</th>\n",
       "      <th>body_camera</th>\n",
       "      <th>total_population</th>\n",
       "    </tr>\n",
       "  </thead>\n",
       "  <tbody>\n",
       "    <tr>\n",
       "      <th>0</th>\n",
       "      <td>02/01/15</td>\n",
       "      <td>gun</td>\n",
       "      <td>53</td>\n",
       "      <td>M</td>\n",
       "      <td>A</td>\n",
       "      <td>Shelton</td>\n",
       "      <td>WA</td>\n",
       "      <td>True</td>\n",
       "      <td>attack</td>\n",
       "      <td>Not fleeing</td>\n",
       "      <td>False</td>\n",
       "      <td>14674252</td>\n",
       "    </tr>\n",
       "    <tr>\n",
       "      <th>1</th>\n",
       "      <td>02/01/15</td>\n",
       "      <td>gun</td>\n",
       "      <td>47</td>\n",
       "      <td>M</td>\n",
       "      <td>W</td>\n",
       "      <td>Aloha</td>\n",
       "      <td>OR</td>\n",
       "      <td>False</td>\n",
       "      <td>attack</td>\n",
       "      <td>Not fleeing</td>\n",
       "      <td>False</td>\n",
       "      <td>223553265</td>\n",
       "    </tr>\n",
       "    <tr>\n",
       "      <th>2</th>\n",
       "      <td>03/01/15</td>\n",
       "      <td>unarmed</td>\n",
       "      <td>23</td>\n",
       "      <td>M</td>\n",
       "      <td>H</td>\n",
       "      <td>Wichita</td>\n",
       "      <td>KS</td>\n",
       "      <td>False</td>\n",
       "      <td>other</td>\n",
       "      <td>Not fleeing</td>\n",
       "      <td>False</td>\n",
       "      <td>50477594</td>\n",
       "    </tr>\n",
       "    <tr>\n",
       "      <th>3</th>\n",
       "      <td>04/01/15</td>\n",
       "      <td>toy weapon</td>\n",
       "      <td>32</td>\n",
       "      <td>M</td>\n",
       "      <td>W</td>\n",
       "      <td>San Francisco</td>\n",
       "      <td>CA</td>\n",
       "      <td>True</td>\n",
       "      <td>attack</td>\n",
       "      <td>Not fleeing</td>\n",
       "      <td>False</td>\n",
       "      <td>223553265</td>\n",
       "    </tr>\n",
       "    <tr>\n",
       "      <th>4</th>\n",
       "      <td>04/01/15</td>\n",
       "      <td>nail gun</td>\n",
       "      <td>39</td>\n",
       "      <td>M</td>\n",
       "      <td>H</td>\n",
       "      <td>Evans</td>\n",
       "      <td>CO</td>\n",
       "      <td>False</td>\n",
       "      <td>attack</td>\n",
       "      <td>Not fleeing</td>\n",
       "      <td>False</td>\n",
       "      <td>50477594</td>\n",
       "    </tr>\n",
       "  </tbody>\n",
       "</table>\n",
       "</div>"
      ],
      "text/plain": [
       "       date       armed  age gender race           City state  \\\n",
       "0  02/01/15         gun   53      M    A        Shelton    WA   \n",
       "1  02/01/15         gun   47      M    W          Aloha    OR   \n",
       "2  03/01/15     unarmed   23      M    H        Wichita    KS   \n",
       "3  04/01/15  toy weapon   32      M    W  San Francisco    CA   \n",
       "4  04/01/15    nail gun   39      M    H          Evans    CO   \n",
       "\n",
       "   signs_of_mental_illness threat_level         flee  body_camera  \\\n",
       "0                     True       attack  Not fleeing        False   \n",
       "1                    False       attack  Not fleeing        False   \n",
       "2                    False        other  Not fleeing        False   \n",
       "3                     True       attack  Not fleeing        False   \n",
       "4                    False       attack  Not fleeing        False   \n",
       "\n",
       "  total_population  \n",
       "0         14674252  \n",
       "1        223553265  \n",
       "2         50477594  \n",
       "3        223553265  \n",
       "4         50477594  "
      ]
     },
     "execution_count": 64,
     "metadata": {},
     "output_type": "execute_result"
    }
   ],
   "source": [
    "# Adding total_population column with data corresponding to race\n",
    "\n",
    "conditions = [df[\"race\"]==\"A\", df[\"race\"]==\"W\", df[\"race\"]==\"H\", df[\"race\"]==\"B\", df[\"race\"]==\"N\", df[\"race\"]==\"O\"]\n",
    "numbers = [14674252, 223553265, 50477594, 38929319, 2932248, 22579629]\n",
    "\n",
    "df[\"total_population\"] = np.select(conditions, numbers, default=\"zero\")\n",
    "\n",
    "df.head()"
   ]
  },
  {
   "cell_type": "markdown",
   "metadata": {},
   "source": [
    "<br>\n",
    "## EXPLORATORY ANALYSIS"
   ]
  },
  {
   "cell_type": "markdown",
   "metadata": {},
   "source": [
    "### Total number of people killed, by race"
   ]
  },
  {
   "cell_type": "code",
   "execution_count": 65,
   "metadata": {},
   "outputs": [
    {
     "data": {
      "text/plain": [
       "<matplotlib.text.Text at 0x1235f3e50>"
      ]
     },
     "execution_count": 65,
     "metadata": {},
     "output_type": "execute_result"
    },
    {
     "data": {
      "image/png": "[encoded data removed]",
      "text/plain": [
       "<matplotlib.figure.Figure at 0x1218577d0>"
      ]
     },
     "metadata": {},
     "output_type": "display_data"
    }
   ],
   "source": [
    "plt.figure(figsize=(15,5))\n",
    "sns.countplot(data=df, x=\"race\")\n",
    "\n",
    "plt.title(\"Total number of people killed, by race\", fontsize=17)"
   ]
  },
  {
   "cell_type": "markdown",
   "metadata": {},
   "source": [
    "The dataset divides race into Asian, White, Hispanic, Black, Native American and Other. From the bar chart we can see that the overwhelming majority being killed by police is either White, Hispanic or Black, with White being the race with the largest amount of victims. \n",
    "<br>This makes sense since White is the largest racial group in the US, followed by Black and Hispanic."
   ]
  },
  {
   "cell_type": "markdown",
   "metadata": {},
   "source": [
    "### Number of people killed as a proportion of respective races"
   ]
  },
  {
   "cell_type": "code",
   "execution_count": 66,
   "metadata": {},
   "outputs": [
    {
     "name": "stdout",
     "output_type": "stream",
     "text": [
      "[39, 1201, 423, 618, 31, 28]\n"
     ]
    }
   ],
   "source": [
    "# List of nr of people killed per race\n",
    "\n",
    "races = [\"A\", \"W\", \"H\", \"B\", \"N\", \"O\"]\n",
    "killed_per_race = []\n",
    "\n",
    "for i in races:\n",
    "    i_killings = df.race.loc[(df.race==i)].count()\n",
    "    killed_per_race.append(i_killings)\n",
    "    \n",
    "print (killed_per_race)\n"
   ]
  },
  {
   "cell_type": "code",
   "execution_count": 67,
   "metadata": {},
   "outputs": [
    {
     "name": "stdout",
     "output_type": "stream",
     "text": [
      "2.6577163865e-06\n",
      "5.37232144652e-06\n",
      "8.37995566904e-06\n",
      "1.5874924501e-05\n",
      "1.05720934928e-05\n",
      "1.24005580428e-06\n"
     ]
    }
   ],
   "source": [
    "prop_killed_per_race = []\n",
    "\n",
    "for i in races:\n",
    "    \n",
    "    if i == \"A\":\n",
    "        prop_i_killed = killed_per_race[0]/14674252.0\n",
    "        print (prop_i_killed)\n",
    "    elif i == \"W\":\n",
    "        prop_i_killed = killed_per_race[1]/223553265.0\n",
    "        print (prop_i_killed)\n",
    "    elif i == \"H\":\n",
    "        prop_i_killed = killed_per_race[2]/50477594.0\n",
    "        print (prop_i_killed)\n",
    "    elif i == \"B\":\n",
    "        prop_i_killed = killed_per_race[3]/38929319.0\n",
    "        print (prop_i_killed)\n",
    "    elif i == \"N\":\n",
    "        prop_i_killed = killed_per_race[4]/2932248.0\n",
    "        print (prop_i_killed)\n",
    "    else:\n",
    "        prop_i_killed = killed_per_race[5]/22579629.0\n",
    "        print (prop_i_killed)\n",
    "    \n",
    "    prop_killed_per_race.append(prop_i_killed)\n"
   ]
  },
  {
   "cell_type": "code",
   "execution_count": 68,
   "metadata": {},
   "outputs": [
    {
     "data": {
      "text/plain": [
       "[2.6577163864979287e-06,\n",
       " 5.3723214465241655e-06,\n",
       " 8.3799556690439723e-06,\n",
       " 1.5874924500991144e-05,\n",
       " 1.0572093492774145e-05,\n",
       " 1.240055804282701e-06]"
      ]
     },
     "execution_count": 68,
     "metadata": {},
     "output_type": "execute_result"
    }
   ],
   "source": [
    "prop_killed_per_race"
   ]
  },
  {
   "cell_type": "code",
   "execution_count": 69,
   "metadata": {},
   "outputs": [
    {
     "data": {
      "text/plain": [
       "<matplotlib.axes._subplots.AxesSubplot at 0x123652e10>"
      ]
     },
     "execution_count": 69,
     "metadata": {},
     "output_type": "execute_result"
    },
    {
     "data": {
      "image/png": "[encoded data removed]",
      "text/plain": [
       "<matplotlib.figure.Figure at 0x123652290>"
      ]
     },
     "metadata": {},
     "output_type": "display_data"
    }
   ],
   "source": [
    "plt.figure(figsize=(14,6))\n",
    "plt.title(\"People killed as a proportion of their respective race\", fontsize=17)\n",
    "sns.barplot(x=races, y=prop_killed_per_race)"
   ]
  },
  {
   "cell_type": "markdown",
   "metadata": {},
   "source": [
    "This bar chart shows the number of victims per race as a proportion of the total US population of respective race.\n",
    "\n",
    "Earlier, when we looked at the total number of people killed, we saw that twice as many Whites were killed as Blacks. However, if you look at the numbers as the proportion of the racial population, Blacks are approximately 3 times as likely to be killed by police than Whites."
   ]
  },
  {
   "cell_type": "markdown",
   "metadata": {},
   "source": [
    "### Total number of people killed, by gender"
   ]
  },
  {
   "cell_type": "code",
   "execution_count": 70,
   "metadata": {},
   "outputs": [
    {
     "name": "stdout",
     "output_type": "stream",
     "text": [
      "95% of the victims are male.\n"
     ]
    },
    {
     "data": {
      "image/png": "[encoded data removed]",
      "text/plain": [
       "<matplotlib.figure.Figure at 0x123634710>"
      ]
     },
     "metadata": {},
     "output_type": "display_data"
    }
   ],
   "source": [
    "female = df[df[\"gender\"] == \"F\"].gender.count()\n",
    "male = df[df[\"gender\"] == \"M\"].gender.count()\n",
    "perc_male = (male*100)/(male+female) \n",
    "\n",
    "plt.figure(figsize=(7,5))\n",
    "sns.countplot(data=df, x=\"gender\")\n",
    "\n",
    "plt.title(\"Total number of people killed, by gender\", fontsize=17)\n",
    "\n",
    "print (str(perc_male) + \"% \" + \"of the victims are male.\")"
   ]
  },
  {
   "cell_type": "markdown",
   "metadata": {},
   "source": [
    "### General age distribution"
   ]
  },
  {
   "cell_type": "code",
   "execution_count": 71,
   "metadata": {},
   "outputs": [
    {
     "data": {
      "text/plain": [
       "<matplotlib.text.Text at 0x12432e190>"
      ]
     },
     "execution_count": 71,
     "metadata": {},
     "output_type": "execute_result"
    },
    {
     "data": {
      "image/png": "[encoded data removed]",
      "text/plain": [
       "<matplotlib.figure.Figure at 0x1242f9bd0>"
      ]
     },
     "metadata": {},
     "output_type": "display_data"
    }
   ],
   "source": [
    "plt.figure(figsize=(15,7))\n",
    "age_dist = sns.distplot(df[\"age\"], bins=40)\n",
    "age_dist.set(xlabel=\"Age\", ylabel=\"Count\")\n",
    "\n",
    "plt.title(\"Age distribution\", fontsize=17)"
   ]
  },
  {
   "cell_type": "markdown",
   "metadata": {},
   "source": [
    "### Comparing age distributions of Blacks, Whites,  and Hispanics "
   ]
  },
  {
   "cell_type": "code",
   "execution_count": 72,
   "metadata": {},
   "outputs": [
    {
     "data": {
      "text/plain": [
       "<matplotlib.text.Text at 0x121656290>"
      ]
     },
     "execution_count": 72,
     "metadata": {},
     "output_type": "execute_result"
    },
    {
     "data": {
      "image/png": "[encoded data removed]",
      "text/plain": [
       "<matplotlib.figure.Figure at 0x124144d10>"
      ]
     },
     "metadata": {},
     "output_type": "display_data"
    }
   ],
   "source": [
    "# First, create dataset with only Blacks, Whites, Hispanics\n",
    "\n",
    "three_races = df.loc[(df[\"race\"] == \"B\") | (df[\"race\"] == \"W\") | (df[\"race\"] == \"H\")]\n",
    "\n",
    "g = sns.FacetGrid(data=three_races, hue=\"race\", aspect=3, size=4)\n",
    "g.map(sns.kdeplot, \"age\", shade=True)\n",
    "g.add_legend(title=\"Race\")\n",
    "\n",
    "\n",
    "g.set_ylabels(\"Count\")\n",
    "plt.title(\"Age distribution, by race\", fontsize=17)"
   ]
  },
  {
   "cell_type": "markdown",
   "metadata": {},
   "source": [
    "The age distribution of Blacks and Hispanics is skewed to the left, whereas the age distribution for Whites is more spread out. On average, Blacks and Hispanics are being killed at a younger age than Whites - which is consistent with the initial hypothesis that black males are subject to police killings at a young age."
   ]
  },
  {
   "cell_type": "code",
   "execution_count": 73,
   "metadata": {},
   "outputs": [
    {
     "name": "stdout",
     "output_type": "stream",
     "text": [
      "Average age of white victims is 40.0166527893\n",
      "Average age of black victims is 31.6990291262\n",
      "Average age of hispanic victims is 33.0661938534\n"
     ]
    }
   ],
   "source": [
    "avg_age_w = df.age[(df[\"race\"] == \"W\")].mean() \n",
    "avg_age_b = df.age[(df[\"race\"] == \"B\")].mean() \n",
    "avg_age_h = df.age[(df[\"race\"] == \"H\")].mean() \n",
    "\n",
    "print (\"Average age of white victims is \" + str(avg_age_w))\n",
    "print (\"Average age of black victims is \" + str(avg_age_b))\n",
    "print (\"Average age of hispanic victims is \" + str(avg_age_h))"
   ]
  },
  {
   "cell_type": "markdown",
   "metadata": {},
   "source": [
    "<br>\n",
    "### Number of fatal shootings in each state"
   ]
  },
  {
   "cell_type": "code",
   "execution_count": 74,
   "metadata": {},
   "outputs": [
    {
     "data": {
      "text/plain": [
       "<matplotlib.text.Text at 0x12bb6d190>"
      ]
     },
     "execution_count": 74,
     "metadata": {},
     "output_type": "execute_result"
    },
    {
     "data": {
      "image/png": "[encoded data removed]",
      "text/plain": [
       "<matplotlib.figure.Figure at 0x1215e1310>"
      ]
     },
     "metadata": {},
     "output_type": "display_data"
    }
   ],
   "source": [
    "plt.figure(figsize=(20,10))\n",
    "sns.countplot(data=df, x=df.state)\n",
    "plt.title(\"Number of police killings, by state\", fontsize=27)"
   ]
  },
  {
   "cell_type": "markdown",
   "metadata": {},
   "source": [
    "California, Texas and Florida are the states in which police killings are most frequent. These are also the three most populous states in the US."
   ]
  },
  {
   "cell_type": "markdown",
   "metadata": {},
   "source": [
    "### Most dangerous cities"
   ]
  },
  {
   "cell_type": "code",
   "execution_count": 75,
   "metadata": {},
   "outputs": [
    {
     "data": {
      "text/plain": [
       "<matplotlib.text.Text at 0x12be45690>"
      ]
     },
     "execution_count": 75,
     "metadata": {},
     "output_type": "execute_result"
    },
    {
     "data": {
      "image/png": "[encoded data removed]",
      "text/plain": [
       "<matplotlib.figure.Figure at 0x12bc11e10>"
      ]
     },
     "metadata": {},
     "output_type": "display_data"
    }
   ],
   "source": [
    "city = df.City.value_counts(ascending=False)\n",
    "\n",
    "df_city = df.filter([\"City\"], axis=1)\n",
    "df_city[\"count\"] = 1\n",
    "\n",
    "grouped_city = df_city.groupby(\"City\", as_index=False,sort=False).sum()\n",
    "grouped_city.sort_index(ascending=False)\n",
    "\n",
    "grouped_city = grouped_city.sort_values(\"count\", ascending=False).head(8)                                                       \n",
    "\n",
    "plt.figure(figsize=(15,8))\n",
    "sns.barplot(data=grouped_city, x=\"City\", y=\"count\")\n",
    "plt.title(\"Most dangerous cities\", fontsize=17)"
   ]
  },
  {
   "cell_type": "markdown",
   "metadata": {},
   "source": [
    "### Visualizing police shootings using Tableau"
   ]
  },
  {
   "cell_type": "code",
   "execution_count": 76,
   "metadata": {},
   "outputs": [
    {
     "data": {
      "text/html": [
       "<div class='tableauPlaceholder' id='viz1504205405904' style='position: relative'><noscript><a href='#'><img alt='Sheet 1 ' src='https:&#47;&#47;public.tableau.com&#47;static&#47;images&#47;In&#47;InteractivePoliceKillingsMap&#47;Sheet1&#47;1_rss.png' style='border: none' /></a></noscript><object class='tableauViz'  style='display:none;'><param name='host_url' value='https%3A%2F%2Fpublic.tableau.com%2F' /> <param name='path' value='views&#47;InteractivePoliceKillingsMap&#47;Sheet1?:embed=y&amp;:display_count=y&amp;publish=yes' /> <param name='toolbar' value='yes' /><param name='static_image' value='https:&#47;&#47;public.tableau.com&#47;static&#47;images&#47;In&#47;InteractivePoliceKillingsMap&#47;Sheet1&#47;1.png' /> <param name='animate_transition' value='yes' /><param name='display_static_image' value='yes' /><param name='display_spinner' value='yes' /><param name='display_overlay' value='yes' /><param name='display_count' value='yes' /><param name='filter' value='publish=yes' /></object></div>                <script type='text/javascript'>                    var divElement = document.getElementById('viz1504205405904');                    var vizElement = divElement.getElementsByTagName('object')[0];                    vizElement.style.width='100%';vizElement.style.height=(divElement.offsetWidth*0.75)+'px';                    var scriptElement = document.createElement('script');                    scriptElement.src = 'https://public.tableau.com/javascripts/api/viz_v1.js';                    vizElement.parentNode.insertBefore(scriptElement, vizElement);                </script>"
      ],
      "text/plain": [
       "<IPython.core.display.HTML object>"
      ]
     },
     "metadata": {},
     "output_type": "display_data"
    }
   ],
   "source": [
    "%%HTML\n",
    "<div class='tableauPlaceholder' id='viz1504205405904' style='position: relative'><noscript><a href='#'><img alt='Sheet 1 ' src='https:&#47;&#47;public.tableau.com&#47;static&#47;images&#47;In&#47;InteractivePoliceKillingsMap&#47;Sheet1&#47;1_rss.png' style='border: none' /></a></noscript><object class='tableauViz'  style='display:none;'><param name='host_url' value='https%3A%2F%2Fpublic.tableau.com%2F' /> <param name='path' value='views&#47;InteractivePoliceKillingsMap&#47;Sheet1?:embed=y&amp;:display_count=y&amp;publish=yes' /> <param name='toolbar' value='yes' /><param name='static_image' value='https:&#47;&#47;public.tableau.com&#47;static&#47;images&#47;In&#47;InteractivePoliceKillingsMap&#47;Sheet1&#47;1.png' /> <param name='animate_transition' value='yes' /><param name='display_static_image' value='yes' /><param name='display_spinner' value='yes' /><param name='display_overlay' value='yes' /><param name='display_count' value='yes' /><param name='filter' value='publish=yes' /></object></div>                <script type='text/javascript'>                    var divElement = document.getElementById('viz1504205405904');                    var vizElement = divElement.getElementsByTagName('object')[0];                    vizElement.style.width='100%';vizElement.style.height=(divElement.offsetWidth*0.75)+'px';                    var scriptElement = document.createElement('script');                    scriptElement.src = 'https://public.tableau.com/javascripts/api/viz_v1.js';                    vizElement.parentNode.insertBefore(scriptElement, vizElement);                </script>"
   ]
  },
  {
   "cell_type": "markdown",
   "metadata": {},
   "source": [
    "### Most common ways of being armed"
   ]
  },
  {
   "cell_type": "code",
   "execution_count": 77,
   "metadata": {},
   "outputs": [
    {
     "data": {
      "text/plain": [
       "<matplotlib.text.Text at 0x12c462710>"
      ]
     },
     "execution_count": 77,
     "metadata": {},
     "output_type": "execute_result"
    },
    {
     "data": {
      "image/png": "[encoded data removed]",
      "text/plain": [
       "<matplotlib.figure.Figure at 0x1218ba090>"
      ]
     },
     "metadata": {},
     "output_type": "display_data"
    }
   ],
   "source": [
    "armed = df.armed.value_counts(ascending=False)\n",
    "\n",
    "df_armed = df.filter([\"armed\"], axis=1)\n",
    "df_armed[\"count\"] = 1\n",
    "\n",
    "grouped_armed = df_armed.groupby(\"armed\", as_index=False,sort=False).sum()\n",
    "grouped_armed.sort_index(ascending=False)\n",
    "\n",
    "grouped_armed = grouped_armed.sort_values(\"count\", ascending=False).head(8) \n",
    "\n",
    "plt.figure(figsize=(15,8))\n",
    "sns.barplot(data=grouped_armed, x=\"armed\", y=\"count\")\n",
    "plt.title(\"Most common ways of being armed\", fontsize=17)"
   ]
  },
  {
   "cell_type": "markdown",
   "metadata": {},
   "source": [
    "<br>"
   ]
  },
  {
   "cell_type": "markdown",
   "metadata": {},
   "source": [
    "## Adding features (census data)"
   ]
  },
  {
   "cell_type": "markdown",
   "metadata": {},
   "source": [
    "Using US census data, I have compiled datasets on median household income, poverty rate, high school graduation rate, and the racial demographic in each city. This information is then added to the original dataset. Below I merge these datasets, and apply various machine learning algorithms to explore whether it's possible to predict the race of a victim based on the features."
   ]
  },
  {
   "cell_type": "markdown",
   "metadata": {},
   "source": [
    "#### Preprocessing the census data"
   ]
  },
  {
   "cell_type": "code",
   "execution_count": 78,
   "metadata": {
    "collapsed": true
   },
   "outputs": [],
   "source": [
    "income = pd.read_csv(\"MedianHouseholdIncome2015.csv\")\n",
    "income[\"City\"].replace([\"city\", \"CDP\", \"town\"], \"\", regex=True, inplace=True)\n",
    "income[\"city\"] = income[\"City\"] + \", \" + income[\"Geographic Area\"]\n",
    "income.drop([\"Geographic Area\", \"City\"], axis=1, inplace=True)\n",
    "\n",
    "poverty = pd.read_csv(\"PercentagePeopleBelowPovertyLevel.csv\")\n",
    "poverty[\"City\"].replace([\"city\", \"CDP\", \"town\"], \"\", regex=True, inplace=True)\n",
    "poverty[\"city\"] = poverty[\"City\"] + \", \" + poverty[\"Geographic Area\"]\n",
    "poverty.drop([\"Geographic Area\", \"City\"], axis=1, inplace=True)\n",
    "\n",
    "race = pd.read_csv(\"ShareRaceByCity.csv\")\n",
    "race[\"City\"].replace([\"city\", \"CDP\", \"town\"], \"\", regex=True, inplace=True) \n",
    "race[\"city\"] = race[\"City\"] + \", \" + race[\"Geographic area\"]\n",
    "race.drop([\"Geographic area\", \"City\"], axis=1, inplace=True)\n",
    "\n",
    "highschool = pd.read_csv(\"PercentOver25CompletedHighSchool.csv\")\n",
    "highschool[\"City\"].replace([\"city\", \"CDP\", \"town\"], \"\", regex=True, inplace=True)\n",
    "highschool[\"city\"] = highschool[\"City\"] + \", \" + highschool[\"Geographic Area\"]\n",
    "highschool.drop([\"Geographic Area\", \"City\"], axis=1, inplace=True)"
   ]
  },
  {
   "cell_type": "markdown",
   "metadata": {},
   "source": [
    "#### Merging the datasets"
   ]
  },
  {
   "cell_type": "code",
   "execution_count": 79,
   "metadata": {
    "collapsed": true
   },
   "outputs": [],
   "source": [
    "df[\"city\"] = df[\"City\"] + \" , \" + df[\"state\"] # Creating the same \"city\" format\n",
    "merge1 = pd.merge(poverty, race, on=\"city\", how=\"outer\")\n",
    "merge2 = pd.merge(merge1, income, on=\"city\", how=\"outer\")\n",
    "merge3 = pd.merge(merge2, highschool, on=\"city\", how=\"outer\")\n",
    "data = pd.merge(df, merge3, on=\"city\", how=\"outer\")\n",
    "data.dropna(inplace=True)\n",
    "\n",
    "data[[\"Median Income\", \"poverty_rate\", \"share_white\", \"share_black\", \"share_native_american\", \"share_asian\", \n",
    "      \"share_hispanic\", \"percent_completed_hs\"]] = data[[\"Median Income\", \"poverty_rate\", \"share_white\", \"share_black\", \"share_native_american\", \"share_asian\", \n",
    "      \"share_hispanic\", \"percent_completed_hs\"]].replace(\"(X)\", np.NaN)\n",
    "data[[\"Median Income\", \"poverty_rate\", \"share_white\", \"share_black\", \"share_native_american\", \"share_asian\", \n",
    "      \"share_hispanic\", \"percent_completed_hs\"]] = data[[\"Median Income\", \"poverty_rate\", \"share_white\", \"share_black\", \"share_native_american\", \"share_asian\", \n",
    "      \"share_hispanic\", \"percent_completed_hs\"]].replace(\"-\", np.NaN)\n",
    "\n",
    "data[[\"Median Income\", \"poverty_rate\", \"share_white\", \"share_black\", \"share_native_american\", \"share_asian\", \n",
    "      \"share_hispanic\", \"percent_completed_hs\"]] = data[[\"Median Income\", \"poverty_rate\", \"share_white\", \"share_black\", \"share_native_american\", \"share_asian\", \n",
    "      \"share_hispanic\", \"percent_completed_hs\"]].astype(float)"
   ]
  },
  {
   "cell_type": "code",
   "execution_count": 80,
   "metadata": {
    "collapsed": true
   },
   "outputs": [],
   "source": [
    "data.dropna(inplace=True)"
   ]
  },
  {
   "cell_type": "code",
   "execution_count": 81,
   "metadata": {
    "collapsed": true
   },
   "outputs": [],
   "source": [
    "# Converting neccesary columns to floats\n",
    "data[\"poverty_rate\"] = data[\"poverty_rate\"].astype(float)\n",
    "data[\"share_white\"] = data[\"share_white\"].astype(float)\n",
    "data[\"share_black\"] = data[\"share_black\"].astype(float)\n",
    "data[\"share_native_american\"] = data[\"share_native_american\"].astype(float)\n",
    "data[\"share_asian\"] = data[\"share_asian\"].astype(float)\n",
    "data[\"share_hispanic\"] = data[\"share_hispanic\"].astype(float)\n",
    "data[\"percent_completed_hs\"] = data[\"percent_completed_hs\"].astype(float)\n",
    "data[\"Median Income\"] = data[\"Median Income\"].astype(int)"
   ]
  },
  {
   "cell_type": "code",
   "execution_count": 82,
   "metadata": {},
   "outputs": [
    {
     "data": {
      "text/html": [
       "<div>\n",
       "<style>\n",
       "    .dataframe thead tr:only-child th {\n",
       "        text-align: right;\n",
       "    }\n",
       "\n",
       "    .dataframe thead th {\n",
       "        text-align: left;\n",
       "    }\n",
       "\n",
       "    .dataframe tbody tr th {\n",
       "        vertical-align: top;\n",
       "    }\n",
       "</style>\n",
       "<table border=\"1\" class=\"dataframe\">\n",
       "  <thead>\n",
       "    <tr style=\"text-align: right;\">\n",
       "      <th></th>\n",
       "      <th>date</th>\n",
       "      <th>armed</th>\n",
       "      <th>age</th>\n",
       "      <th>gender</th>\n",
       "      <th>race</th>\n",
       "      <th>City</th>\n",
       "      <th>state</th>\n",
       "      <th>signs_of_mental_illness</th>\n",
       "      <th>threat_level</th>\n",
       "      <th>flee</th>\n",
       "      <th>...</th>\n",
       "      <th>total_population</th>\n",
       "      <th>city</th>\n",
       "      <th>poverty_rate</th>\n",
       "      <th>share_white</th>\n",
       "      <th>share_black</th>\n",
       "      <th>share_native_american</th>\n",
       "      <th>share_asian</th>\n",
       "      <th>share_hispanic</th>\n",
       "      <th>Median Income</th>\n",
       "      <th>percent_completed_hs</th>\n",
       "    </tr>\n",
       "  </thead>\n",
       "  <tbody>\n",
       "    <tr>\n",
       "      <th>0</th>\n",
       "      <td>02/01/15</td>\n",
       "      <td>gun</td>\n",
       "      <td>53.0</td>\n",
       "      <td>M</td>\n",
       "      <td>A</td>\n",
       "      <td>Shelton</td>\n",
       "      <td>WA</td>\n",
       "      <td>True</td>\n",
       "      <td>attack</td>\n",
       "      <td>Not fleeing</td>\n",
       "      <td>...</td>\n",
       "      <td>14674252</td>\n",
       "      <td>Shelton , WA</td>\n",
       "      <td>28.6</td>\n",
       "      <td>78.9</td>\n",
       "      <td>0.8</td>\n",
       "      <td>3.7</td>\n",
       "      <td>1.1</td>\n",
       "      <td>19.2</td>\n",
       "      <td>37072</td>\n",
       "      <td>80.1</td>\n",
       "    </tr>\n",
       "    <tr>\n",
       "      <th>1</th>\n",
       "      <td>02/01/15</td>\n",
       "      <td>gun</td>\n",
       "      <td>47.0</td>\n",
       "      <td>M</td>\n",
       "      <td>W</td>\n",
       "      <td>Aloha</td>\n",
       "      <td>OR</td>\n",
       "      <td>False</td>\n",
       "      <td>attack</td>\n",
       "      <td>Not fleeing</td>\n",
       "      <td>...</td>\n",
       "      <td>223553265</td>\n",
       "      <td>Aloha , OR</td>\n",
       "      <td>14.9</td>\n",
       "      <td>70.9</td>\n",
       "      <td>2.6</td>\n",
       "      <td>1.0</td>\n",
       "      <td>8.9</td>\n",
       "      <td>21.1</td>\n",
       "      <td>65765</td>\n",
       "      <td>88.1</td>\n",
       "    </tr>\n",
       "    <tr>\n",
       "      <th>2</th>\n",
       "      <td>02/10/15</td>\n",
       "      <td>knife</td>\n",
       "      <td>55.0</td>\n",
       "      <td>F</td>\n",
       "      <td>W</td>\n",
       "      <td>Aloha</td>\n",
       "      <td>OR</td>\n",
       "      <td>True</td>\n",
       "      <td>other</td>\n",
       "      <td>Not fleeing</td>\n",
       "      <td>...</td>\n",
       "      <td>223553265</td>\n",
       "      <td>Aloha , OR</td>\n",
       "      <td>14.9</td>\n",
       "      <td>70.9</td>\n",
       "      <td>2.6</td>\n",
       "      <td>1.0</td>\n",
       "      <td>8.9</td>\n",
       "      <td>21.1</td>\n",
       "      <td>65765</td>\n",
       "      <td>88.1</td>\n",
       "    </tr>\n",
       "    <tr>\n",
       "      <th>3</th>\n",
       "      <td>03/01/15</td>\n",
       "      <td>unarmed</td>\n",
       "      <td>23.0</td>\n",
       "      <td>M</td>\n",
       "      <td>H</td>\n",
       "      <td>Wichita</td>\n",
       "      <td>KS</td>\n",
       "      <td>False</td>\n",
       "      <td>other</td>\n",
       "      <td>Not fleeing</td>\n",
       "      <td>...</td>\n",
       "      <td>50477594</td>\n",
       "      <td>Wichita , KS</td>\n",
       "      <td>17.3</td>\n",
       "      <td>71.9</td>\n",
       "      <td>11.5</td>\n",
       "      <td>1.2</td>\n",
       "      <td>4.8</td>\n",
       "      <td>15.3</td>\n",
       "      <td>45947</td>\n",
       "      <td>87.5</td>\n",
       "    </tr>\n",
       "    <tr>\n",
       "      <th>4</th>\n",
       "      <td>22/08/15</td>\n",
       "      <td>vehicle</td>\n",
       "      <td>26.0</td>\n",
       "      <td>M</td>\n",
       "      <td>W</td>\n",
       "      <td>Wichita</td>\n",
       "      <td>KS</td>\n",
       "      <td>False</td>\n",
       "      <td>attack</td>\n",
       "      <td>Car</td>\n",
       "      <td>...</td>\n",
       "      <td>223553265</td>\n",
       "      <td>Wichita , KS</td>\n",
       "      <td>17.3</td>\n",
       "      <td>71.9</td>\n",
       "      <td>11.5</td>\n",
       "      <td>1.2</td>\n",
       "      <td>4.8</td>\n",
       "      <td>15.3</td>\n",
       "      <td>45947</td>\n",
       "      <td>87.5</td>\n",
       "    </tr>\n",
       "  </tbody>\n",
       "</table>\n",
       "<p>5 rows × 21 columns</p>\n",
       "</div>"
      ],
      "text/plain": [
       "       date    armed   age gender race     City state signs_of_mental_illness  \\\n",
       "0  02/01/15      gun  53.0      M    A  Shelton    WA                    True   \n",
       "1  02/01/15      gun  47.0      M    W    Aloha    OR                   False   \n",
       "2  02/10/15    knife  55.0      F    W    Aloha    OR                    True   \n",
       "3  03/01/15  unarmed  23.0      M    H  Wichita    KS                   False   \n",
       "4  22/08/15  vehicle  26.0      M    W  Wichita    KS                   False   \n",
       "\n",
       "  threat_level         flee          ...          total_population  \\\n",
       "0       attack  Not fleeing          ...                  14674252   \n",
       "1       attack  Not fleeing          ...                 223553265   \n",
       "2        other  Not fleeing          ...                 223553265   \n",
       "3        other  Not fleeing          ...                  50477594   \n",
       "4       attack          Car          ...                 223553265   \n",
       "\n",
       "           city poverty_rate  share_white  share_black  share_native_american  \\\n",
       "0  Shelton , WA         28.6         78.9          0.8                    3.7   \n",
       "1    Aloha , OR         14.9         70.9          2.6                    1.0   \n",
       "2    Aloha , OR         14.9         70.9          2.6                    1.0   \n",
       "3  Wichita , KS         17.3         71.9         11.5                    1.2   \n",
       "4  Wichita , KS         17.3         71.9         11.5                    1.2   \n",
       "\n",
       "   share_asian  share_hispanic  Median Income  percent_completed_hs  \n",
       "0          1.1            19.2          37072                  80.1  \n",
       "1          8.9            21.1          65765                  88.1  \n",
       "2          8.9            21.1          65765                  88.1  \n",
       "3          4.8            15.3          45947                  87.5  \n",
       "4          4.8            15.3          45947                  87.5  \n",
       "\n",
       "[5 rows x 21 columns]"
      ]
     },
     "execution_count": 82,
     "metadata": {},
     "output_type": "execute_result"
    }
   ],
   "source": [
    "data.head()"
   ]
  },
  {
   "cell_type": "markdown",
   "metadata": {},
   "source": [
    "<br>\n",
    "## RANDOM FOREST ALGORITHM TO PREDICT RACE"
   ]
  },
  {
   "cell_type": "code",
   "execution_count": 83,
   "metadata": {},
   "outputs": [],
   "source": [
    "from sklearn.cross_validation import train_test_split\n",
    "from sklearn.metrics import classification_report, confusion_matrix\n",
    "from sklearn.ensemble import RandomForestClassifier"
   ]
  },
  {
   "cell_type": "code",
   "execution_count": 84,
   "metadata": {},
   "outputs": [
    {
     "data": {
      "text/plain": [
       "LabelEncoder()"
      ]
     },
     "execution_count": 84,
     "metadata": {},
     "output_type": "execute_result"
    }
   ],
   "source": [
    "# Mapping True/False to 1/0\n",
    "\n",
    "data[\"signs_of_mental_illness\"] = data[\"signs_of_mental_illness\"].astype(int)\n",
    "data[\"body_camera\"] = df[\"body_camera\"].astype(int)\n",
    "\n",
    "# Using LabelEncoder to deal with categorical features\n",
    "\n",
    "from sklearn.preprocessing import LabelEncoder\n",
    "le = LabelEncoder()\n",
    "\n",
    "le.fit([\"armed\", \"race\", \"gender\", \"city\", \"state\", \"threat_level\", \"flee\"])"
   ]
  },
  {
   "cell_type": "code",
   "execution_count": 85,
   "metadata": {
    "collapsed": true
   },
   "outputs": [],
   "source": [
    "data_log = data.apply(LabelEncoder().fit_transform)\n",
    "\n",
    "X = data_log\n",
    "y = data_log[\"race\"]\n",
    "X.drop([\"race\", \"date\", \"total_population\"], axis=1, inplace=True)\n",
    "\n",
    "X_train, X_test, y_train, y_test = train_test_split(X, y, test_size=0.3, random_state=101)"
   ]
  },
  {
   "cell_type": "code",
   "execution_count": 86,
   "metadata": {},
   "outputs": [
    {
     "data": {
      "text/plain": [
       "RandomForestClassifier(bootstrap=True, class_weight=None, criterion='gini',\n",
       "            max_depth=None, max_features='auto', max_leaf_nodes=None,\n",
       "            min_impurity_split=1e-07, min_samples_leaf=1,\n",
       "            min_samples_split=2, min_weight_fraction_leaf=0.0,\n",
       "            n_estimators=10, n_jobs=1, oob_score=False, random_state=None,\n",
       "            verbose=0, warm_start=False)"
      ]
     },
     "execution_count": 86,
     "metadata": {},
     "output_type": "execute_result"
    }
   ],
   "source": [
    "rfc = RandomForestClassifier()\n",
    "rfc.fit(X_train, y_train) "
   ]
  },
  {
   "cell_type": "code",
   "execution_count": 87,
   "metadata": {},
   "outputs": [
    {
     "data": {
      "text/plain": [
       "array([ 0.0519046 ,  0.13659332,  0.0067739 ,  0.04274619,  0.05244911,\n",
       "        0.02545002,  0.0256923 ,  0.03049124,  0.0164064 ,  0.04577375,\n",
       "        0.03670264,  0.10189539,  0.1210398 ,  0.04844237,  0.05940386,\n",
       "        0.09161573,  0.04589423,  0.06072515])"
      ]
     },
     "execution_count": 87,
     "metadata": {},
     "output_type": "execute_result"
    }
   ],
   "source": [
    "rfc_pred = rfc.predict(X_test)\n",
    "rfc.feature_importances_"
   ]
  },
  {
   "cell_type": "code",
   "execution_count": 88,
   "metadata": {},
   "outputs": [
    {
     "data": {
      "text/html": [
       "<div>\n",
       "<style>\n",
       "    .dataframe thead tr:only-child th {\n",
       "        text-align: right;\n",
       "    }\n",
       "\n",
       "    .dataframe thead th {\n",
       "        text-align: left;\n",
       "    }\n",
       "\n",
       "    .dataframe tbody tr th {\n",
       "        vertical-align: top;\n",
       "    }\n",
       "</style>\n",
       "<table border=\"1\" class=\"dataframe\">\n",
       "  <thead>\n",
       "    <tr style=\"text-align: right;\">\n",
       "      <th></th>\n",
       "      <th>feature_importance</th>\n",
       "      <th>feature_name</th>\n",
       "    </tr>\n",
       "  </thead>\n",
       "  <tbody>\n",
       "    <tr>\n",
       "      <th>0</th>\n",
       "      <td>0.051905</td>\n",
       "      <td>armed</td>\n",
       "    </tr>\n",
       "    <tr>\n",
       "      <th>1</th>\n",
       "      <td>0.136593</td>\n",
       "      <td>age</td>\n",
       "    </tr>\n",
       "    <tr>\n",
       "      <th>2</th>\n",
       "      <td>0.006774</td>\n",
       "      <td>gender</td>\n",
       "    </tr>\n",
       "    <tr>\n",
       "      <th>3</th>\n",
       "      <td>0.042746</td>\n",
       "      <td>City</td>\n",
       "    </tr>\n",
       "    <tr>\n",
       "      <th>4</th>\n",
       "      <td>0.052449</td>\n",
       "      <td>state</td>\n",
       "    </tr>\n",
       "    <tr>\n",
       "      <th>5</th>\n",
       "      <td>0.025450</td>\n",
       "      <td>signs_of_mental_illness</td>\n",
       "    </tr>\n",
       "    <tr>\n",
       "      <th>6</th>\n",
       "      <td>0.025692</td>\n",
       "      <td>threat_level</td>\n",
       "    </tr>\n",
       "    <tr>\n",
       "      <th>7</th>\n",
       "      <td>0.030491</td>\n",
       "      <td>flee</td>\n",
       "    </tr>\n",
       "    <tr>\n",
       "      <th>8</th>\n",
       "      <td>0.016406</td>\n",
       "      <td>body_camera</td>\n",
       "    </tr>\n",
       "    <tr>\n",
       "      <th>9</th>\n",
       "      <td>0.045774</td>\n",
       "      <td>city</td>\n",
       "    </tr>\n",
       "    <tr>\n",
       "      <th>10</th>\n",
       "      <td>0.036703</td>\n",
       "      <td>poverty_rate</td>\n",
       "    </tr>\n",
       "    <tr>\n",
       "      <th>11</th>\n",
       "      <td>0.101895</td>\n",
       "      <td>share_white</td>\n",
       "    </tr>\n",
       "    <tr>\n",
       "      <th>12</th>\n",
       "      <td>0.121040</td>\n",
       "      <td>share_black</td>\n",
       "    </tr>\n",
       "    <tr>\n",
       "      <th>13</th>\n",
       "      <td>0.048442</td>\n",
       "      <td>share_native_american</td>\n",
       "    </tr>\n",
       "    <tr>\n",
       "      <th>14</th>\n",
       "      <td>0.059404</td>\n",
       "      <td>share_asian</td>\n",
       "    </tr>\n",
       "    <tr>\n",
       "      <th>15</th>\n",
       "      <td>0.091616</td>\n",
       "      <td>share_hispanic</td>\n",
       "    </tr>\n",
       "    <tr>\n",
       "      <th>16</th>\n",
       "      <td>0.045894</td>\n",
       "      <td>Median Income</td>\n",
       "    </tr>\n",
       "    <tr>\n",
       "      <th>17</th>\n",
       "      <td>0.060725</td>\n",
       "      <td>percent_completed_hs</td>\n",
       "    </tr>\n",
       "  </tbody>\n",
       "</table>\n",
       "</div>"
      ],
      "text/plain": [
       "    feature_importance             feature_name\n",
       "0             0.051905                    armed\n",
       "1             0.136593                      age\n",
       "2             0.006774                   gender\n",
       "3             0.042746                     City\n",
       "4             0.052449                    state\n",
       "5             0.025450  signs_of_mental_illness\n",
       "6             0.025692             threat_level\n",
       "7             0.030491                     flee\n",
       "8             0.016406              body_camera\n",
       "9             0.045774                     city\n",
       "10            0.036703             poverty_rate\n",
       "11            0.101895              share_white\n",
       "12            0.121040              share_black\n",
       "13            0.048442    share_native_american\n",
       "14            0.059404              share_asian\n",
       "15            0.091616           share_hispanic\n",
       "16            0.045894            Median Income\n",
       "17            0.060725     percent_completed_hs"
      ]
     },
     "execution_count": 88,
     "metadata": {},
     "output_type": "execute_result"
    }
   ],
   "source": [
    "feature_data = pd.DataFrame({\"feature_name\": data_log.columns, \"feature_importance\": rfc.feature_importances_}) \n",
    "feature_data"
   ]
  },
  {
   "cell_type": "markdown",
   "metadata": {},
   "source": [
    "The most important features in predicting race using the Random Forest algorithm are age and racial demographics."
   ]
  },
  {
   "cell_type": "code",
   "execution_count": 89,
   "metadata": {},
   "outputs": [
    {
     "name": "stdout",
     "output_type": "stream",
     "text": [
      "             precision    recall  f1-score   support\n",
      "\n",
      "          0       0.00      0.00      0.00        12\n",
      "          1       0.56      0.63      0.59       153\n",
      "          2       0.60      0.52      0.56       127\n",
      "          3       0.50      0.29      0.36         7\n",
      "          4       0.40      0.50      0.44         8\n",
      "          5       0.73      0.76      0.75       309\n",
      "\n",
      "avg / total       0.64      0.65      0.65       616\n",
      "\n"
     ]
    }
   ],
   "source": [
    "print(classification_report(y_test, rfc_pred))"
   ]
  },
  {
   "cell_type": "code",
   "execution_count": 90,
   "metadata": {},
   "outputs": [
    {
     "data": {
      "text/plain": [
       "0.65422077922077926"
      ]
     },
     "execution_count": 90,
     "metadata": {},
     "output_type": "execute_result"
    }
   ],
   "source": [
    "from sklearn.metrics import accuracy_score\n",
    "\n",
    "# Accuracy score\n",
    "rf_accuracy_score = accuracy_score(y_test, rfc_pred)\n",
    "rf_accuracy_score"
   ]
  },
  {
   "cell_type": "code",
   "execution_count": 91,
   "metadata": {
    "scrolled": true
   },
   "outputs": [
    {
     "data": {
      "text/plain": [
       "GridSearchCV(cv=5, error_score='raise',\n",
       "       estimator=RandomForestClassifier(bootstrap=True, class_weight=None, criterion='gini',\n",
       "            max_depth=None, max_features='auto', max_leaf_nodes=None,\n",
       "            min_impurity_split=1e-07, min_samples_leaf=1,\n",
       "            min_samples_split=2, min_weight_fraction_leaf=0.0,\n",
       "            n_estimators=10, n_jobs=1, oob_score=False, random_state=None,\n",
       "            verbose=0, warm_start=False),\n",
       "       fit_params={}, iid=True, n_jobs=1,\n",
       "       param_grid={'n_estimators': [15, 18, 26, 32], 'criterion': ['gini', 'entropy'], 'max_depth': [32, 44, 50], 'min_samples_leaf': [40, 50, 60]},\n",
       "       pre_dispatch='2*n_jobs', refit=True, return_train_score=True,\n",
       "       scoring='accuracy', verbose=0)"
      ]
     },
     "execution_count": 91,
     "metadata": {},
     "output_type": "execute_result"
    }
   ],
   "source": [
    "params = {\"max_depth\": [32,44,50],\n",
    "         \"n_estimators\": [15,18,26,32],\n",
    "          \"min_samples_leaf\": [40,50,60],\n",
    "         \"criterion\": [\"gini\", \"entropy\"]}\n",
    "\n",
    "from sklearn import model_selection\n",
    "\n",
    "gs_rf = model_selection.GridSearchCV(estimator=rfc,\n",
    "                                 param_grid=params,\n",
    "                                 cv=5,\n",
    "                                 scoring=\"accuracy\")\n",
    "\n",
    "gs_rf.fit(X_train, y_train)"
   ]
  },
  {
   "cell_type": "code",
   "execution_count": 92,
   "metadata": {},
   "outputs": [
    {
     "data": {
      "text/plain": [
       "{'criterion': 'entropy',\n",
       " 'max_depth': 50,\n",
       " 'min_samples_leaf': 50,\n",
       " 'n_estimators': 32}"
      ]
     },
     "execution_count": 92,
     "metadata": {},
     "output_type": "execute_result"
    }
   ],
   "source": [
    "# Extract the best parameters\n",
    "gs_rf.best_params_"
   ]
  },
  {
   "cell_type": "code",
   "execution_count": 93,
   "metadata": {},
   "outputs": [
    {
     "data": {
      "text/plain": [
       "0.65901183020180931"
      ]
     },
     "execution_count": 93,
     "metadata": {},
     "output_type": "execute_result"
    }
   ],
   "source": [
    "# Accuracy score after grid search\n",
    "gs_rf_accuracy_score = gs_rf.best_score_ \n",
    "gs_rf_accuracy_score"
   ]
  },
  {
   "cell_type": "markdown",
   "metadata": {},
   "source": [
    "<br>"
   ]
  },
  {
   "cell_type": "markdown",
   "metadata": {},
   "source": [
    "## LOGISTIC REGRESSION ALGORITHM TO PREDICT RACE"
   ]
  },
  {
   "cell_type": "code",
   "execution_count": 94,
   "metadata": {},
   "outputs": [
    {
     "data": {
      "text/html": [
       "<div>\n",
       "<style>\n",
       "    .dataframe thead tr:only-child th {\n",
       "        text-align: right;\n",
       "    }\n",
       "\n",
       "    .dataframe thead th {\n",
       "        text-align: left;\n",
       "    }\n",
       "\n",
       "    .dataframe tbody tr th {\n",
       "        vertical-align: top;\n",
       "    }\n",
       "</style>\n",
       "<table border=\"1\" class=\"dataframe\">\n",
       "  <thead>\n",
       "    <tr style=\"text-align: right;\">\n",
       "      <th></th>\n",
       "      <th>age</th>\n",
       "      <th>race</th>\n",
       "      <th>poverty_rate</th>\n",
       "      <th>share_white</th>\n",
       "      <th>share_black</th>\n",
       "      <th>share_native_american</th>\n",
       "      <th>share_asian</th>\n",
       "      <th>share_hispanic</th>\n",
       "      <th>Median Income</th>\n",
       "      <th>percent_completed_hs</th>\n",
       "      <th>...</th>\n",
       "      <th>state_VT</th>\n",
       "      <th>state_WA</th>\n",
       "      <th>state_WI</th>\n",
       "      <th>state_WV</th>\n",
       "      <th>state_WY</th>\n",
       "      <th>threat_level_other</th>\n",
       "      <th>threat_level_undetermined</th>\n",
       "      <th>flee_Foot</th>\n",
       "      <th>flee_Not fleeing</th>\n",
       "      <th>flee_Other</th>\n",
       "    </tr>\n",
       "  </thead>\n",
       "  <tbody>\n",
       "    <tr>\n",
       "      <th>0</th>\n",
       "      <td>53.0</td>\n",
       "      <td>A</td>\n",
       "      <td>28.6</td>\n",
       "      <td>78.9</td>\n",
       "      <td>0.8</td>\n",
       "      <td>3.7</td>\n",
       "      <td>1.1</td>\n",
       "      <td>19.2</td>\n",
       "      <td>37072</td>\n",
       "      <td>80.1</td>\n",
       "      <td>...</td>\n",
       "      <td>0</td>\n",
       "      <td>1</td>\n",
       "      <td>0</td>\n",
       "      <td>0</td>\n",
       "      <td>0</td>\n",
       "      <td>0</td>\n",
       "      <td>0</td>\n",
       "      <td>0</td>\n",
       "      <td>1</td>\n",
       "      <td>0</td>\n",
       "    </tr>\n",
       "    <tr>\n",
       "      <th>1</th>\n",
       "      <td>47.0</td>\n",
       "      <td>W</td>\n",
       "      <td>14.9</td>\n",
       "      <td>70.9</td>\n",
       "      <td>2.6</td>\n",
       "      <td>1.0</td>\n",
       "      <td>8.9</td>\n",
       "      <td>21.1</td>\n",
       "      <td>65765</td>\n",
       "      <td>88.1</td>\n",
       "      <td>...</td>\n",
       "      <td>0</td>\n",
       "      <td>0</td>\n",
       "      <td>0</td>\n",
       "      <td>0</td>\n",
       "      <td>0</td>\n",
       "      <td>0</td>\n",
       "      <td>0</td>\n",
       "      <td>0</td>\n",
       "      <td>1</td>\n",
       "      <td>0</td>\n",
       "    </tr>\n",
       "    <tr>\n",
       "      <th>2</th>\n",
       "      <td>55.0</td>\n",
       "      <td>W</td>\n",
       "      <td>14.9</td>\n",
       "      <td>70.9</td>\n",
       "      <td>2.6</td>\n",
       "      <td>1.0</td>\n",
       "      <td>8.9</td>\n",
       "      <td>21.1</td>\n",
       "      <td>65765</td>\n",
       "      <td>88.1</td>\n",
       "      <td>...</td>\n",
       "      <td>0</td>\n",
       "      <td>0</td>\n",
       "      <td>0</td>\n",
       "      <td>0</td>\n",
       "      <td>0</td>\n",
       "      <td>1</td>\n",
       "      <td>0</td>\n",
       "      <td>0</td>\n",
       "      <td>1</td>\n",
       "      <td>0</td>\n",
       "    </tr>\n",
       "    <tr>\n",
       "      <th>3</th>\n",
       "      <td>23.0</td>\n",
       "      <td>H</td>\n",
       "      <td>17.3</td>\n",
       "      <td>71.9</td>\n",
       "      <td>11.5</td>\n",
       "      <td>1.2</td>\n",
       "      <td>4.8</td>\n",
       "      <td>15.3</td>\n",
       "      <td>45947</td>\n",
       "      <td>87.5</td>\n",
       "      <td>...</td>\n",
       "      <td>0</td>\n",
       "      <td>0</td>\n",
       "      <td>0</td>\n",
       "      <td>0</td>\n",
       "      <td>0</td>\n",
       "      <td>1</td>\n",
       "      <td>0</td>\n",
       "      <td>0</td>\n",
       "      <td>1</td>\n",
       "      <td>0</td>\n",
       "    </tr>\n",
       "    <tr>\n",
       "      <th>4</th>\n",
       "      <td>26.0</td>\n",
       "      <td>W</td>\n",
       "      <td>17.3</td>\n",
       "      <td>71.9</td>\n",
       "      <td>11.5</td>\n",
       "      <td>1.2</td>\n",
       "      <td>4.8</td>\n",
       "      <td>15.3</td>\n",
       "      <td>45947</td>\n",
       "      <td>87.5</td>\n",
       "      <td>...</td>\n",
       "      <td>0</td>\n",
       "      <td>0</td>\n",
       "      <td>0</td>\n",
       "      <td>0</td>\n",
       "      <td>0</td>\n",
       "      <td>0</td>\n",
       "      <td>0</td>\n",
       "      <td>0</td>\n",
       "      <td>0</td>\n",
       "      <td>0</td>\n",
       "    </tr>\n",
       "  </tbody>\n",
       "</table>\n",
       "<p>5 rows × 2249 columns</p>\n",
       "</div>"
      ],
      "text/plain": [
       "    age race  poverty_rate  share_white  share_black  share_native_american  \\\n",
       "0  53.0    A          28.6         78.9          0.8                    3.7   \n",
       "1  47.0    W          14.9         70.9          2.6                    1.0   \n",
       "2  55.0    W          14.9         70.9          2.6                    1.0   \n",
       "3  23.0    H          17.3         71.9         11.5                    1.2   \n",
       "4  26.0    W          17.3         71.9         11.5                    1.2   \n",
       "\n",
       "   share_asian  share_hispanic  Median Income  percent_completed_hs  \\\n",
       "0          1.1            19.2          37072                  80.1   \n",
       "1          8.9            21.1          65765                  88.1   \n",
       "2          8.9            21.1          65765                  88.1   \n",
       "3          4.8            15.3          45947                  87.5   \n",
       "4          4.8            15.3          45947                  87.5   \n",
       "\n",
       "      ...      state_VT  state_WA  state_WI  state_WV  state_WY  \\\n",
       "0     ...             0         1         0         0         0   \n",
       "1     ...             0         0         0         0         0   \n",
       "2     ...             0         0         0         0         0   \n",
       "3     ...             0         0         0         0         0   \n",
       "4     ...             0         0         0         0         0   \n",
       "\n",
       "   threat_level_other  threat_level_undetermined  flee_Foot  flee_Not fleeing  \\\n",
       "0                   0                          0          0                 1   \n",
       "1                   0                          0          0                 1   \n",
       "2                   1                          0          0                 1   \n",
       "3                   1                          0          0                 1   \n",
       "4                   0                          0          0                 0   \n",
       "\n",
       "   flee_Other  \n",
       "0           0  \n",
       "1           0  \n",
       "2           0  \n",
       "3           0  \n",
       "4           0  \n",
       "\n",
       "[5 rows x 2249 columns]"
      ]
     },
     "execution_count": 94,
     "metadata": {},
     "output_type": "execute_result"
    }
   ],
   "source": [
    "# Transforming columns into dummy varaibles\n",
    "\n",
    "dummies = pd.get_dummies(data[[\"armed\", \"gender\", \"city\", \"City\", \"state\", \"threat_level\", \"flee\",\"signs_of_mental_illness\", \"body_camera\"]], drop_first=True)\n",
    "dummies = pd.concat([data, dummies], axis=1)\n",
    "\n",
    "dummies.drop(data[[\"date\", \"armed\", \"gender\", \"city\", \"City\", \"state\", \"threat_level\", \"flee\", \"total_population\",\"signs_of_mental_illness\", \"body_camera\"]], axis=1, inplace=True)\n",
    "dummies.dropna()\n",
    "dummies.head()"
   ]
  },
  {
   "cell_type": "code",
   "execution_count": 95,
   "metadata": {},
   "outputs": [
    {
     "data": {
      "text/plain": [
       "LogisticRegression(C=1.0, class_weight=None, dual=False, fit_intercept=True,\n",
       "          intercept_scaling=1, max_iter=100, multi_class='ovr', n_jobs=1,\n",
       "          penalty='l2', random_state=None, solver='liblinear', tol=0.0001,\n",
       "          verbose=0, warm_start=False)"
      ]
     },
     "execution_count": 95,
     "metadata": {},
     "output_type": "execute_result"
    }
   ],
   "source": [
    "X = dummies.drop(\"race\", axis=1)\n",
    "y = dummies[\"race\"]\n",
    "\n",
    "X_train, X_test, y_train, y_test = train_test_split(X, y, test_size=0.3, random_state=101)\n",
    "\n",
    "from sklearn.linear_model import LogisticRegression\n",
    "\n",
    "logmodel = LogisticRegression()\n",
    "logmodel.fit(X_train, y_train)"
   ]
  },
  {
   "cell_type": "code",
   "execution_count": 96,
   "metadata": {},
   "outputs": [
    {
     "name": "stdout",
     "output_type": "stream",
     "text": [
      "             precision    recall  f1-score   support\n",
      "\n",
      "          A       0.00      0.00      0.00        12\n",
      "          B       0.64      0.59      0.61       153\n",
      "          H       0.61      0.51      0.56       127\n",
      "          N       0.00      0.00      0.00         7\n",
      "          O       0.80      0.50      0.62         8\n",
      "          W       0.70      0.82      0.76       309\n",
      "\n",
      "avg / total       0.65      0.67      0.65       616\n",
      "\n"
     ]
    }
   ],
   "source": [
    "predictions = logmodel.predict(X_test)\n",
    "print (classification_report(y_test, predictions))"
   ]
  },
  {
   "cell_type": "code",
   "execution_count": 97,
   "metadata": {},
   "outputs": [
    {
     "data": {
      "text/plain": [
       "0.67045454545454541"
      ]
     },
     "execution_count": 97,
     "metadata": {},
     "output_type": "execute_result"
    }
   ],
   "source": [
    "# Accuracy score\n",
    "log_accuracy_score = accuracy_score(y_test, predictions)\n",
    "log_accuracy_score"
   ]
  },
  {
   "cell_type": "code",
   "execution_count": 98,
   "metadata": {},
   "outputs": [
    {
     "data": {
      "text/plain": [
       "GridSearchCV(cv=5, error_score='raise',\n",
       "       estimator=LogisticRegression(C=1.0, class_weight=None, dual=False, fit_intercept=True,\n",
       "          intercept_scaling=1, max_iter=100, multi_class='ovr', n_jobs=1,\n",
       "          penalty='l2', random_state=None, solver='liblinear', tol=0.0001,\n",
       "          verbose=0, warm_start=False),\n",
       "       fit_params={}, iid=True, n_jobs=1,\n",
       "       param_grid={'C': [1.0, 2.0, 3.0], 'max_iter': [20, 30, 50]},\n",
       "       pre_dispatch='2*n_jobs', refit=True, return_train_score=True,\n",
       "       scoring='accuracy', verbose=0)"
      ]
     },
     "execution_count": 98,
     "metadata": {},
     "output_type": "execute_result"
    }
   ],
   "source": [
    "params = {\"max_iter\": [20,30,50],\n",
    "         \"C\": [1.0, 2.0, 3.0]}\n",
    "\n",
    "gs_logmodel = model_selection.GridSearchCV(estimator=logmodel,\n",
    "                                 param_grid=params,\n",
    "                                 cv=5,\n",
    "                                 scoring=\"accuracy\")\n",
    "\n",
    "gs_logmodel.fit(X_train, y_train)"
   ]
  },
  {
   "cell_type": "code",
   "execution_count": 99,
   "metadata": {},
   "outputs": [
    {
     "data": {
      "text/plain": [
       "{'C': 3.0, 'max_iter': 20}"
      ]
     },
     "execution_count": 99,
     "metadata": {},
     "output_type": "execute_result"
    }
   ],
   "source": [
    "gs_logmodel.best_params_"
   ]
  },
  {
   "cell_type": "code",
   "execution_count": 100,
   "metadata": {},
   "outputs": [
    {
     "data": {
      "text/plain": [
       "0.67084203201113435"
      ]
     },
     "execution_count": 100,
     "metadata": {},
     "output_type": "execute_result"
    }
   ],
   "source": [
    "# Accuracy score\n",
    "gs_logmodel_accuracy_score = gs_logmodel.best_score_\n",
    "gs_logmodel_accuracy_score"
   ]
  },
  {
   "cell_type": "markdown",
   "metadata": {},
   "source": [
    "<br>"
   ]
  },
  {
   "cell_type": "markdown",
   "metadata": {},
   "source": [
    "## KNN ALGORITHM"
   ]
  },
  {
   "cell_type": "code",
   "execution_count": 101,
   "metadata": {},
   "outputs": [
    {
     "data": {
      "text/plain": [
       "KNeighborsClassifier(algorithm='auto', leaf_size=30, metric='minkowski',\n",
       "           metric_params=None, n_jobs=1, n_neighbors=1, p=2,\n",
       "           weights='uniform')"
      ]
     },
     "execution_count": 101,
     "metadata": {},
     "output_type": "execute_result"
    }
   ],
   "source": [
    "from sklearn.neighbors import KNeighborsClassifier\n",
    "\n",
    "X = dummies.drop(\"race\", axis=1)\n",
    "y = dummies[\"race\"]\n",
    "\n",
    "X_train, X_test, y_train, y_test = train_test_split(X, y, test_size=0.3, random_state=101)\n",
    "\n",
    "knn = KNeighborsClassifier(n_neighbors=1) # k=1\n",
    "knn.fit(X_train, y_train)"
   ]
  },
  {
   "cell_type": "code",
   "execution_count": 102,
   "metadata": {},
   "outputs": [
    {
     "name": "stdout",
     "output_type": "stream",
     "text": [
      "             precision    recall  f1-score   support\n",
      "\n",
      "          A       0.00      0.00      0.00        12\n",
      "          B       0.46      0.51      0.48       153\n",
      "          H       0.47      0.35      0.40       127\n",
      "          N       0.15      0.29      0.20         7\n",
      "          O       0.25      0.38      0.30         8\n",
      "          W       0.64      0.66      0.65       309\n",
      "\n",
      "avg / total       0.54      0.54      0.53       616\n",
      "\n"
     ]
    }
   ],
   "source": [
    "pred = knn.predict(X_test)\n",
    "print(classification_report(y_test, pred))"
   ]
  },
  {
   "cell_type": "code",
   "execution_count": 103,
   "metadata": {},
   "outputs": [
    {
     "data": {
      "text/plain": [
       "0.53733766233766234"
      ]
     },
     "execution_count": 103,
     "metadata": {},
     "output_type": "execute_result"
    }
   ],
   "source": [
    "knn_accuracy_score = accuracy_score(y_test, pred)\n",
    "knn_accuracy_score"
   ]
  },
  {
   "cell_type": "code",
   "execution_count": 104,
   "metadata": {
    "collapsed": true
   },
   "outputs": [],
   "source": [
    "error_rate = []\n",
    "\n",
    "for i in range(1,30): # Checking every possible k value from 1-30\n",
    "\n",
    "    knn = KNeighborsClassifier(n_neighbors=i)\n",
    "    knn.fit(X_train, y_train)\n",
    "    pred_i = knn.predict(X_test)\n",
    "    error_rate.append(np.mean(pred_i != y_test)) "
   ]
  },
  {
   "cell_type": "code",
   "execution_count": 105,
   "metadata": {},
   "outputs": [
    {
     "data": {
      "text/plain": [
       "<matplotlib.text.Text at 0x12bcd8550>"
      ]
     },
     "execution_count": 105,
     "metadata": {},
     "output_type": "execute_result"
    },
    {
     "data": {
      "image/png": "[encoded data removed]",
      "text/plain": [
       "<matplotlib.figure.Figure at 0x12180b7d0>"
      ]
     },
     "metadata": {},
     "output_type": "display_data"
    }
   ],
   "source": [
    "plt.figure(figsize=(10,6))\n",
    "plt.plot(range(1,30), error_rate, color=\"grey\", marker=\"o\", markerfacecolor=\"red\")\n",
    "plt.title(\"Error rate vs K value\", fontsize=17)\n",
    "plt.xlabel(\"K\")\n",
    "plt.ylabel(\"Error rate\")"
   ]
  },
  {
   "cell_type": "markdown",
   "metadata": {},
   "source": [
    "k=7 gives the lowest error rate, so we try fitting the model again, using this information."
   ]
  },
  {
   "cell_type": "code",
   "execution_count": 106,
   "metadata": {},
   "outputs": [
    {
     "name": "stdout",
     "output_type": "stream",
     "text": [
      "             precision    recall  f1-score   support\n",
      "\n",
      "          A       0.00      0.00      0.00        12\n",
      "          B       0.52      0.54      0.53       153\n",
      "          H       0.48      0.36      0.41       127\n",
      "          N       0.00      0.00      0.00         7\n",
      "          O       0.00      0.00      0.00         8\n",
      "          W       0.64      0.74      0.68       309\n",
      "\n",
      "avg / total       0.55      0.58      0.56       616\n",
      "\n"
     ]
    }
   ],
   "source": [
    "knn = KNeighborsClassifier(n_neighbors=7)\n",
    "knn.fit(X_train, y_train)\n",
    "pred = knn.predict(X_test)\n",
    "\n",
    "print(classification_report(y_test, pred))"
   ]
  },
  {
   "cell_type": "code",
   "execution_count": 107,
   "metadata": {},
   "outputs": [
    {
     "data": {
      "text/plain": [
       "0.57954545454545459"
      ]
     },
     "execution_count": 107,
     "metadata": {},
     "output_type": "execute_result"
    }
   ],
   "source": [
    "# Accuracy score\n",
    "knn_accuracy_score_iter = accuracy_score(y_test, pred)\n",
    "knn_accuracy_score_iter"
   ]
  },
  {
   "cell_type": "markdown",
   "metadata": {},
   "source": [
    "<br>"
   ]
  },
  {
   "cell_type": "markdown",
   "metadata": {},
   "source": [
    "# Comparing accuracy scores"
   ]
  },
  {
   "cell_type": "code",
   "execution_count": 108,
   "metadata": {},
   "outputs": [
    {
     "data": {
      "image/png": "[encoded data removed]",
      "text/plain": [
       "<matplotlib.figure.Figure at 0x12bf05f10>"
      ]
     },
     "metadata": {},
     "output_type": "display_data"
    }
   ],
   "source": [
    "accuracy_pre = {\"Random Forest\": rf_accuracy_score, \n",
    "                \"Logistic Regression\": log_accuracy_score, \n",
    "                \"KNN\": knn_accuracy_score}\n",
    "\n",
    "accuracy_post = {\"Random Forest\": gs_rf_accuracy_score, \n",
    "                 \"Logistic Regression\": gs_logmodel_accuracy_score, \n",
    "                 \"KNN\": knn_accuracy_score_iter}\n",
    "\n",
    "X = np.arange(len(accuracy_pre))\n",
    "ax = plt.subplot(111)\n",
    "ax.bar(X, accuracy_pre.values(), width=0.2, color='b', align='center')\n",
    "ax.bar(X-0.2, accuracy_post.values(), width=0.2, color='g', align='center')\n",
    "ax.legend(('Before grid search','After grid search'))\n",
    "plt.xticks(X, accuracy_pre.keys())\n",
    "plt.title(\"Accuracy score\", fontsize=17)\n",
    "plt.show()"
   ]
  },
  {
   "cell_type": "markdown",
   "metadata": {},
   "source": [
    "Logistic Regression and the Random Forest algorithms yield the highest accuracy score both before and after running grid search. The KNN algorithm performs better after grid search, whereas Logistic Regression and Random Forest don't. \n",
    "\n",
    "KNN doesn't do much better than random choice, meaning there is a risk that there simply is no connection between features and the target class."
   ]
  },
  {
   "cell_type": "markdown",
   "metadata": {},
   "source": [
    "# FINDINGS - SUMMARY"
   ]
  },
  {
   "cell_type": "markdown",
   "metadata": {},
   "source": [
    "- Blacks are 3 times more likely to become victims of police shootings than Whites.\n",
    "- The average age of Black and Hispanic victims is lower (31 and 33 respectively) than that of White victims (40).\n",
    "- California is the state with the most fatal police shootings, and Los Angeles is the most dangerous city.\n",
    "- The most common way of being armed is by gun.\n",
    "\n",
    "#### Critical afterthought\n",
    "\n",
    "The data has some obvious shortcomings. For instance, it only goes 2.5 years back in time. It would be interesting to look at data from before this period as well, but as previously mentioned, such data is hard to find. Furthermore, this data doesn't track death from other means than by shooting (such as death in police custody and other means of death). \n",
    "\n",
    "Judging by the accuracy score of the three algorithms, the features don't do very well in explaining the target class. "
   ]
  },
  {
   "cell_type": "markdown",
   "metadata": {},
   "source": [
    "<br>"
   ]
  }
 ],
 "metadata": {
  "kernelspec": {
   "display_name": "Python [default]",
   "language": "python",
   "name": "python2"
  },
  "language_info": {
   "codemirror_mode": {
    "name": "ipython",
    "version": 2
   },
   "file_extension": ".py",
   "mimetype": "text/x-python",
   "name": "python",
   "nbconvert_exporter": "python",
   "pygments_lexer": "ipython2",
   "version": "2.7.13"
  }
 },
 "nbformat": 4,
 "nbformat_minor": 2
}
